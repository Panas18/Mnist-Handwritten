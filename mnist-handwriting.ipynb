{
 "cells": [
  {
   "cell_type": "code",
   "execution_count": 1,
   "metadata": {},
   "outputs": [],
   "source": [
    "import numpy as np\n",
    "import idx2numpy, torch\n",
    "import matplotlib.pyplot as plt\n",
    "import random"
   ]
  },
  {
   "cell_type": "code",
   "execution_count": 2,
   "metadata": {
    "collapsed": true
   },
   "outputs": [
    {
     "name": "stderr",
     "output_type": "stream",
     "text": [
      "<ipython-input-2-dd5ef20ffd1d>:1: UserWarning: The given NumPy array is not writeable, and PyTorch does not support non-writeable tensors. This means you can write to the underlying (supposedly non-writeable) NumPy array using the tensor. You may want to copy the array to protect its data or make it writeable before converting it to a tensor. This type of warning will be suppressed for the rest of this program. (Triggered internally at  /pytorch/torch/csrc/utils/tensor_numpy.cpp:143.)\n",
      "  train_data = torch.as_tensor(idx2numpy.convert_from_file('mnistdata/train-images.idx3-ubyte'), dtype=torch.float32)\n"
     ]
    }
   ],
   "source": [
    "train_data = torch.as_tensor(idx2numpy.convert_from_file('mnistdata/train-images.idx3-ubyte'), dtype=torch.float32)\n",
    "train_label = torch.as_tensor(idx2numpy.convert_from_file('mnistdata/train-labels.idx1-ubyte'), dtype=torch.int64)\n",
    "\n",
    "test_data = torch.as_tensor(idx2numpy.convert_from_file('mnistdata/t10k-images.idx3-ubyte'), dtype=torch.float32)\n",
    "test_label = torch.as_tensor(idx2numpy.convert_from_file('mnistdata/t10k-labels.idx1-ubyte'), dtype=torch.int64)"
   ]
  },
  {
   "cell_type": "code",
   "execution_count": 3,
   "metadata": {
    "scrolled": false
   },
   "outputs": [
    {
     "name": "stdout",
     "output_type": "stream",
     "text": [
      "Test Image size:torch.Size([10000, 28, 28])\n",
      "Test label: torch.Size([10000])\n",
      "Train Image size:torch.Size([60000, 28, 28])\n",
      "Train label: torch.Size([60000])\n"
     ]
    }
   ],
   "source": [
    "print(f\"Test Image size:{test_data.shape}\")\n",
    "print(f\"Test label: {test_label.shape}\")\n",
    "print(f\"Train Image size:{train_data.shape}\")\n",
    "print(f\"Train label: {train_label.shape}\")"
   ]
  },
  {
   "cell_type": "code",
   "execution_count": 4,
   "metadata": {},
   "outputs": [
    {
     "data": {
      "image/png": "[encoded data removed]",
      "text/plain": [
       "<Figure size 720x720 with 16 Axes>"
      ]
     },
     "metadata": {
      "needs_background": "light"
     },
     "output_type": "display_data"
    }
   ],
   "source": [
    "row, col = 4, 4\n",
    "figure = plt.figure(figsize=(10,10))\n",
    "\n",
    "for i in range(1, row*col +1):\n",
    "    index = random.randint(1, len(train_data))\n",
    "    image = train_data[index]\n",
    "    label = train_label[index].item()\n",
    "    figure.add_subplot(col, row, i)\n",
    "    plt.title(label)\n",
    "    plt.axis('off')\n",
    "    plt.imshow(image, cmap='gray')\n"
   ]
  },
  {
   "cell_type": "code",
   "execution_count": 5,
   "metadata": {},
   "outputs": [],
   "source": [
    "import torch.nn as nn\n",
    "import torch.nn.functional as F\n",
    "from torch.utils.data import DataLoader\n",
    "import torchvision"
   ]
  },
  {
   "cell_type": "code",
   "execution_count": 6,
   "metadata": {},
   "outputs": [],
   "source": [
    "batch_size = 64\n",
    "train_data_loader = DataLoader(train_data, batch_size= batch_size)\n",
    "train_label_loader = DataLoader(train_label, batch_size= batch_size)\n",
    "test_data_loader = DataLoader(test_data, batch_size= batch_size)\n",
    "test_label_loader = DataLoader(test_label, batch_size= batch_size)"
   ]
  },
  {
   "cell_type": "code",
   "execution_count": 7,
   "metadata": {},
   "outputs": [
    {
     "name": "stdout",
     "output_type": "stream",
     "text": [
      "NeuralNet(\n",
      "  (flatten): Flatten(start_dim=1, end_dim=-1)\n",
      "  (forward_propogation): Sequential(\n",
      "    (0): Linear(in_features=784, out_features=16, bias=False)\n",
      "    (1): ReLU()\n",
      "    (2): Linear(in_features=16, out_features=16, bias=False)\n",
      "    (3): ReLU()\n",
      "    (4): Linear(in_features=16, out_features=10, bias=False)\n",
      "    (5): ReLU()\n",
      "  )\n",
      ")\n"
     ]
    }
   ],
   "source": [
    "class NeuralNet(nn.Module):\n",
    "    \n",
    "    def __init__(self):\n",
    "        super(NeuralNet, self).__init__()\n",
    "        self.flatten = nn.Flatten()\n",
    "        self.forward_propogation = nn.Sequential(\n",
    "            nn.Linear(28*28, 16, bias=False),\n",
    "            nn.ReLU(),\n",
    "            nn.Linear(16, 16, bias=False),\n",
    "            nn.ReLU(),\n",
    "            nn.Linear(16, 10, bias=False),\n",
    "            nn.ReLU()\n",
    "        )\n",
    "        \n",
    "    def forward(self, x):\n",
    "        x = self.flatten(x)\n",
    "        output = self.forward_propogation(x)\n",
    "        return output\n",
    "        \n",
    "model = NeuralNet()\n",
    "print(model)"
   ]
  },
  {
   "cell_type": "code",
   "execution_count": 8,
   "metadata": {},
   "outputs": [],
   "source": [
    "learning_rate = 0.001\n",
    "loss_fn = nn.CrossEntropyLoss()\n",
    "optimizer = torch.optim.SGD(model.parameters(), lr=learning_rate)"
   ]
  },
  {
   "cell_type": "code",
   "execution_count": 28,
   "metadata": {},
   "outputs": [],
   "source": [
    "def train(data_dataloader,label_dataloader , model, loss_fn, optimizer):\n",
    "    size = len(data_dataloader.dataset)\n",
    "    for batch, (x, y) in enumerate(zip(data_dataloader, label_dataloader)):\n",
    "        pred = model(x)\n",
    "        \n",
    "        loss = loss_fn(pred, y)\n",
    "        cat =  torch.argmax(pred, dim=1)\n",
    "        accuracy = (cat == y).float().mean()\n",
    "        \n",
    "        optimizer.zero_grad()\n",
    "        loss.backward()\n",
    "        optimizer.step()\n",
    "        \n",
    "        if batch % 100 == 0:\n",
    "            loss, current = loss.item(), batch* len(x)\n",
    "            print(f\"Loss: {loss:>7f}   [{current:>5d}/{size:>5d}] Accuracy: {accuracy * 100:>7f}\")\n",
    "            print(f\"Accuracy: {accuracy:>7f}\")"
   ]
  },
  {
   "cell_type": "code",
   "execution_count": 34,
   "metadata": {},
   "outputs": [],
   "source": [
    "def test(data_dataloader, label_dataloader, model):\n",
    "    size = len(data_dataloader.dataset)\n",
    "    model.eval()\n",
    "    test_loss, correct = 0,0\n",
    "    with torch.no_grad():\n",
    "        for (x, y) in zip(data_dataloader, label_dataloader):\n",
    "            pred = model(x)\n",
    "            test_loss += loss_fn(pred, y).item()\n",
    "            correct += (pred.argmax(1) == y).type(torch.float).sum().item()\n",
    "    test_loss /= size\n",
    "    accurate /= size\n",
    "    print(f\"\\n Test Error: \\n Avg loss: {test_loss:>8f} Test Accuracy:{accurate} \\n\")\n",
    "        "
   ]
  },
  {
   "cell_type": "code",
   "execution_count": 35,
   "metadata": {},
   "outputs": [
    {
     "name": "stdout",
     "output_type": "stream",
     "text": [
      "Epoch 1\n",
      "----------------------\n",
      "Loss: 0.145872   [    0/60000] Accuracy: 96.875000\n",
      "Accuracy: 0.968750\n",
      "Loss: 0.172859   [ 6400/60000] Accuracy: 95.312500\n",
      "Accuracy: 0.953125\n",
      "Loss: 0.125895   [12800/60000] Accuracy: 96.875000\n",
      "Accuracy: 0.968750\n",
      "Loss: 0.430878   [19200/60000] Accuracy: 90.625000\n",
      "Accuracy: 0.906250\n",
      "Loss: 0.209250   [25600/60000] Accuracy: 87.500000\n",
      "Accuracy: 0.875000\n",
      "Loss: 0.375062   [32000/60000] Accuracy: 85.937500\n",
      "Accuracy: 0.859375\n",
      "Loss: 0.096713   [38400/60000] Accuracy: 95.312500\n",
      "Accuracy: 0.953125\n",
      "Loss: 0.185163   [44800/60000] Accuracy: 98.437500\n",
      "Accuracy: 0.984375\n",
      "Loss: 0.186554   [51200/60000] Accuracy: 93.750000\n",
      "Accuracy: 0.937500\n",
      "Loss: 0.425330   [57600/60000] Accuracy: 92.187500\n",
      "Accuracy: 0.921875\n"
     ]
    },
    {
     "ename": "UnboundLocalError",
     "evalue": "local variable 'accurate' referenced before assignment",
     "output_type": "error",
     "traceback": [
      "\u001b[0;31m---------------------------------------------------------------------------\u001b[0m",
      "\u001b[0;31mUnboundLocalError\u001b[0m                         Traceback (most recent call last)",
      "\u001b[0;32m<ipython-input-35-a7f2fc3c9718>\u001b[0m in \u001b[0;36m<module>\u001b[0;34m\u001b[0m\n\u001b[1;32m      3\u001b[0m     \u001b[0mprint\u001b[0m\u001b[0;34m(\u001b[0m\u001b[0;34mf\"Epoch {t+1}\\n----------------------\"\u001b[0m\u001b[0;34m)\u001b[0m\u001b[0;34m\u001b[0m\u001b[0;34m\u001b[0m\u001b[0m\n\u001b[1;32m      4\u001b[0m     \u001b[0mtrain\u001b[0m\u001b[0;34m(\u001b[0m\u001b[0mtrain_data_loader\u001b[0m\u001b[0;34m,\u001b[0m \u001b[0mtrain_label_loader\u001b[0m\u001b[0;34m,\u001b[0m \u001b[0mmodel\u001b[0m\u001b[0;34m,\u001b[0m \u001b[0mloss_fn\u001b[0m\u001b[0;34m,\u001b[0m \u001b[0moptimizer\u001b[0m\u001b[0;34m)\u001b[0m\u001b[0;34m\u001b[0m\u001b[0;34m\u001b[0m\u001b[0m\n\u001b[0;32m----> 5\u001b[0;31m     \u001b[0mtest\u001b[0m\u001b[0;34m(\u001b[0m\u001b[0mtest_data_loader\u001b[0m\u001b[0;34m,\u001b[0m  \u001b[0mtest_label_loader\u001b[0m\u001b[0;34m,\u001b[0m \u001b[0mmodel\u001b[0m\u001b[0;34m)\u001b[0m\u001b[0;34m\u001b[0m\u001b[0;34m\u001b[0m\u001b[0m\n\u001b[0m",
      "\u001b[0;32m<ipython-input-34-fcafec0cdee8>\u001b[0m in \u001b[0;36mtest\u001b[0;34m(data_dataloader, label_dataloader, model)\u001b[0m\n\u001b[1;32m      9\u001b[0m             \u001b[0mcorrect\u001b[0m \u001b[0;34m+=\u001b[0m \u001b[0;34m(\u001b[0m\u001b[0mpred\u001b[0m\u001b[0;34m.\u001b[0m\u001b[0margmax\u001b[0m\u001b[0;34m(\u001b[0m\u001b[0;36m1\u001b[0m\u001b[0;34m)\u001b[0m \u001b[0;34m==\u001b[0m \u001b[0my\u001b[0m\u001b[0;34m)\u001b[0m\u001b[0;34m.\u001b[0m\u001b[0mtype\u001b[0m\u001b[0;34m(\u001b[0m\u001b[0mtorch\u001b[0m\u001b[0;34m.\u001b[0m\u001b[0mfloat\u001b[0m\u001b[0;34m)\u001b[0m\u001b[0;34m.\u001b[0m\u001b[0msum\u001b[0m\u001b[0;34m(\u001b[0m\u001b[0;34m)\u001b[0m\u001b[0;34m.\u001b[0m\u001b[0mitem\u001b[0m\u001b[0;34m(\u001b[0m\u001b[0;34m)\u001b[0m\u001b[0;34m\u001b[0m\u001b[0;34m\u001b[0m\u001b[0m\n\u001b[1;32m     10\u001b[0m     \u001b[0mtest_loss\u001b[0m \u001b[0;34m/=\u001b[0m \u001b[0msize\u001b[0m\u001b[0;34m\u001b[0m\u001b[0;34m\u001b[0m\u001b[0m\n\u001b[0;32m---> 11\u001b[0;31m     \u001b[0maccurate\u001b[0m \u001b[0;34m/=\u001b[0m \u001b[0msize\u001b[0m\u001b[0;34m\u001b[0m\u001b[0;34m\u001b[0m\u001b[0m\n\u001b[0m\u001b[1;32m     12\u001b[0m     \u001b[0mprint\u001b[0m\u001b[0;34m(\u001b[0m\u001b[0;34mf\"\\n Test Error: \\n Avg loss: {test_loss:>8f} Test Accuracy:{accurate} \\n\"\u001b[0m\u001b[0;34m)\u001b[0m\u001b[0;34m\u001b[0m\u001b[0;34m\u001b[0m\u001b[0m\n\u001b[1;32m     13\u001b[0m \u001b[0;34m\u001b[0m\u001b[0m\n",
      "\u001b[0;31mUnboundLocalError\u001b[0m: local variable 'accurate' referenced before assignment"
     ]
    }
   ],
   "source": [
    "epochs = 1\n",
    "for t in range(epochs):\n",
    "    print(f\"Epoch {t+1}\\n----------------------\")\n",
    "    train(train_data_loader, train_label_loader, model, loss_fn, optimizer)\n",
    "    test(test_data_loader,  test_label_loader, model)"
   ]
  },
  {
   "cell_type": "code",
   "execution_count": 31,
   "metadata": {
    "scrolled": false
   },
   "outputs": [
    {
     "data": {
      "image/png": "[encoded data removed]",
      "text/plain": [
       "<Figure size 576x576 with 16 Axes>"
      ]
     },
     "metadata": {
      "needs_background": "light"
     },
     "output_type": "display_data"
    }
   ],
   "source": [
    "model.eval()\n",
    "row , col = 4, 4\n",
    "figure = plt.figure(figsize=(8,8))\n",
    "for i in range(1, row*col+1):\n",
    "    index = random.randint(1, len(test_data))\n",
    "    x, y = test_data[index], test_label[index]\n",
    "    x = torch.as_tensor(x.reshape(1, 28, 28), dtype=torch.float32)\n",
    "    with torch.no_grad():\n",
    "        pred = model(x)\n",
    "        x = x.reshape(28, 28)\n",
    "        predicted_num = pred[0].argmax(0).item()\n",
    "        figure.add_subplot(row, col, i)\n",
    "        plt.title(predicted_num)\n",
    "        plt.axis('off')\n",
    "        plt.imshow(x, cmap='gray')\n",
    "        "
   ]
  },
  {
   "cell_type": "markdown",
   "metadata": {},
   "source": [
    "## Without pytorch"
   ]
  },
  {
   "cell_type": "code",
   "execution_count": null,
   "metadata": {},
   "outputs": [],
   "source": []
  }
 ],
 "metadata": {
  "kernelspec": {
   "display_name": "Python 3.8.5 64-bit ('base': conda)",
   "language": "python",
   "name": "python385jvsc74a57bd00c8791e15965c70e700ff694838cb5fae34d6ba0799ebdf3ef5a2993d75d163f"
  },
  "language_info": {
   "codemirror_mode": {
    "name": "ipython",
    "version": 3
   },
   "file_extension": ".py",
   "mimetype": "text/x-python",
   "name": "python",
   "nbconvert_exporter": "python",
   "pygments_lexer": "ipython3",
   "version": "3.8.5"
  }
 },
 "nbformat": 4,
 "nbformat_minor": 4
}
