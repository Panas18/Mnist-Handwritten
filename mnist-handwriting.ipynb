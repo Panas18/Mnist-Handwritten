{
 "cells": [
  {
   "cell_type": "code",
   "execution_count": 1,
   "metadata": {},
   "outputs": [],
   "source": [
    "import numpy as np\n",
    "import idx2numpy, torch\n",
    "import matplotlib.pyplot as plt\n",
    "import random"
   ]
  },
  {
   "cell_type": "code",
   "execution_count": 2,
   "metadata": {
    "collapsed": true
   },
   "outputs": [
    {
     "name": "stderr",
     "output_type": "stream",
     "text": [
      "<ipython-input-2-dd5ef20ffd1d>:1: UserWarning: The given NumPy array is not writeable, and PyTorch does not support non-writeable tensors. This means you can write to the underlying (supposedly non-writeable) NumPy array using the tensor. You may want to copy the array to protect its data or make it writeable before converting it to a tensor. This type of warning will be suppressed for the rest of this program. (Triggered internally at  /pytorch/torch/csrc/utils/tensor_numpy.cpp:143.)\n",
      "  train_data = torch.as_tensor(idx2numpy.convert_from_file('mnistdata/train-images.idx3-ubyte'), dtype=torch.float32)\n"
     ]
    }
   ],
   "source": [
    "train_data = torch.as_tensor(idx2numpy.convert_from_file('mnistdata/train-images.idx3-ubyte'), dtype=torch.float32)\n",
    "train_label = torch.as_tensor(idx2numpy.convert_from_file('mnistdata/train-labels.idx1-ubyte'), dtype=torch.int64)\n",
    "\n",
    "test_data = torch.as_tensor(idx2numpy.convert_from_file('mnistdata/t10k-images.idx3-ubyte'), dtype=torch.float32)\n",
    "test_label = torch.as_tensor(idx2numpy.convert_from_file('mnistdata/t10k-labels.idx1-ubyte'), dtype=torch.int64)"
   ]
  },
  {
   "cell_type": "code",
   "execution_count": 3,
   "metadata": {
    "scrolled": false
   },
   "outputs": [
    {
     "name": "stdout",
     "output_type": "stream",
     "text": [
      "Test Image size:torch.Size([10000, 28, 28])\n",
      "Test label: torch.Size([10000])\n",
      "Train Image size:torch.Size([60000, 28, 28])\n",
      "Train label: torch.Size([60000])\n"
     ]
    }
   ],
   "source": [
    "print(f\"Test Image size:{test_data.shape}\")\n",
    "print(f\"Test label: {test_label.shape}\")\n",
    "print(f\"Train Image size:{train_data.shape}\")\n",
    "print(f\"Train label: {train_label.shape}\")"
   ]
  },
  {
   "cell_type": "code",
   "execution_count": 4,
   "metadata": {},
   "outputs": [
    {
     "data": {
      "image/png": "[encoded data removed]",
      "text/plain": [
       "<Figure size 720x720 with 16 Axes>"
      ]
     },
     "metadata": {
      "needs_background": "light"
     },
     "output_type": "display_data"
    }
   ],
   "source": [
    "row, col = 4, 4\n",
    "figure = plt.figure(figsize=(10,10))\n",
    "\n",
    "for i in range(1, row*col +1):\n",
    "    index = random.randint(1, len(train_data))\n",
    "    image = train_data[index]\n",
    "    label = train_label[index].item()\n",
    "    figure.add_subplot(col, row, i)\n",
    "    plt.title(label)\n",
    "    plt.axis('off')\n",
    "    plt.imshow(image, cmap='gray')\n"
   ]
  },
  {
   "cell_type": "code",
   "execution_count": 5,
   "metadata": {},
   "outputs": [],
   "source": [
    "import torch.nn as nn\n",
    "import torch.nn.functional as F\n",
    "from torch.utils.data import DataLoader\n",
    "import torchvision"
   ]
  },
  {
   "cell_type": "code",
   "execution_count": 6,
   "metadata": {},
   "outputs": [],
   "source": [
    "batch_size = 64\n",
    "train_data_loader = DataLoader(train_data, batch_size= batch_size)\n",
    "train_label_loader = DataLoader(train_label, batch_size= batch_size)\n",
    "test_data_loader = DataLoader(test_data, batch_size= batch_size)\n",
    "test_label_loader = DataLoader(test_label, batch_size= batch_size)"
   ]
  },
  {
   "cell_type": "code",
   "execution_count": 7,
   "metadata": {},
   "outputs": [
    {
     "name": "stdout",
     "output_type": "stream",
     "text": [
      "NeuralNet(\n",
      "  (flatten): Flatten(start_dim=1, end_dim=-1)\n",
      "  (forward_propogation): Sequential(\n",
      "    (0): Linear(in_features=784, out_features=16, bias=False)\n",
      "    (1): ReLU()\n",
      "    (2): Linear(in_features=16, out_features=16, bias=False)\n",
      "    (3): ReLU()\n",
      "    (4): Linear(in_features=16, out_features=10, bias=False)\n",
      "    (5): ReLU()\n",
      "  )\n",
      ")\n"
     ]
    }
   ],
   "source": [
    "class NeuralNet(nn.Module):\n",
    "    \n",
    "    def __init__(self):\n",
    "        super(NeuralNet, self).__init__()\n",
    "        self.flatten = nn.Flatten()\n",
    "        self.forward_propogation = nn.Sequential(\n",
    "            nn.Linear(28*28, 16, bias=False),\n",
    "            nn.ReLU(),\n",
    "            nn.Linear(16, 16, bias=False),\n",
    "            nn.ReLU(),\n",
    "            nn.Linear(16, 10, bias=False),\n",
    "            nn.ReLU()\n",
    "        )\n",
    "        \n",
    "    def forward(self, x):\n",
    "        x = self.flatten(x)\n",
    "        output = self.forward_propogation(x)\n",
    "        return output\n",
    "        \n",
    "model = NeuralNet()\n",
    "print(model)"
   ]
  },
  {
   "cell_type": "code",
   "execution_count": 8,
   "metadata": {},
   "outputs": [],
   "source": [
    "learning_rate = 0.001\n",
    "loss_fn = nn.CrossEntropyLoss()\n",
    "optimizer = torch.optim.SGD(model.parameters(), lr=learning_rate)"
   ]
  },
  {
   "cell_type": "code",
   "execution_count": 28,
   "metadata": {},
   "outputs": [],
   "source": [
    "def train(data_dataloader,label_dataloader , model, loss_fn, optimizer):\n",
    "    size = len(data_dataloader.dataset)\n",
    "    for batch, (x, y) in enumerate(zip(data_dataloader, label_dataloader)):\n",
    "        pred = model(x)\n",
    "        \n",
    "        loss = loss_fn(pred, y)\n",
    "        cat =  torch.argmax(pred, dim=1)\n",
    "        accuracy = (cat == y).float().mean()\n",
    "        \n",
    "        optimizer.zero_grad()\n",
    "        loss.backward()\n",
    "        optimizer.step()\n",
    "        \n",
    "        if batch % 100 == 0:\n",
    "            loss, current = loss.item(), batch* len(x)\n",
    "            print(f\"Loss: {loss:>7f}   [{current:>5d}/{size:>5d}] Accuracy: {accuracy * 100:>7f}\")\n",
    "            print(f\"Accuracy: {accuracy:>7f}\")"
   ]
  },
  {
   "cell_type": "code",
   "execution_count": 38,
   "metadata": {},
   "outputs": [],
   "source": [
    "def test(data_dataloader, label_dataloader, model):\n",
    "    size = len(data_dataloader.dataset)\n",
    "    model.eval()\n",
    "    test_loss, correct = 0,0\n",
    "    with torch.no_grad():\n",
    "        for (x, y) in zip(data_dataloader, label_dataloader):\n",
    "            pred = model(x)\n",
    "            test_loss += loss_fn(pred, y).item()\n",
    "            correct += (pred.argmax(1) == y).type(torch.float).sum().item()\n",
    "    test_loss /= size\n",
    "    correct /= size\n",
    "    print(f\"\\n Test Error: \\n Avg loss: {test_loss:>8f} Test Accuracy:{correct * 100}% \\n\")\n",
    "        "
   ]
  },
  {
   "cell_type": "code",
   "execution_count": 39,
   "metadata": {},
   "outputs": [
    {
     "name": "stdout",
     "output_type": "stream",
     "text": [
      "Epoch 1\n",
      "----------------------\n",
      "Loss: 0.147278   [    0/60000] Accuracy: 96.875000\n",
      "Accuracy: 0.968750\n",
      "Loss: 0.164604   [ 6400/60000] Accuracy: 96.875000\n",
      "Accuracy: 0.968750\n",
      "Loss: 0.128791   [12800/60000] Accuracy: 93.750000\n",
      "Accuracy: 0.937500\n",
      "Loss: 0.409689   [19200/60000] Accuracy: 90.625000\n",
      "Accuracy: 0.906250\n",
      "Loss: 0.162834   [25600/60000] Accuracy: 90.625000\n",
      "Accuracy: 0.906250\n",
      "Loss: 0.353694   [32000/60000] Accuracy: 85.937500\n",
      "Accuracy: 0.859375\n",
      "Loss: 0.095260   [38400/60000] Accuracy: 95.312500\n",
      "Accuracy: 0.953125\n",
      "Loss: 0.181818   [44800/60000] Accuracy: 96.875000\n",
      "Accuracy: 0.968750\n",
      "Loss: 0.173084   [51200/60000] Accuracy: 93.750000\n",
      "Accuracy: 0.937500\n",
      "Loss: 0.430211   [57600/60000] Accuracy: 92.187500\n",
      "Accuracy: 0.921875\n",
      "\n",
      " Test Error: \n",
      " Avg loss: 0.003536 Test Accuracy:93.64% \n",
      "\n"
     ]
    }
   ],
   "source": [
    "epochs = 1\n",
    "for t in range(epochs):\n",
    "    print(f\"Epoch {t+1}\\n----------------------\")\n",
    "    train(train_data_loader, train_label_loader, model, loss_fn, optimizer)\n",
    "    test(test_data_loader,  test_label_loader, model)"
   ]
  },
  {
   "cell_type": "code",
   "execution_count": 40,
   "metadata": {
    "scrolled": false
   },
   "outputs": [
    {
     "data": {
      "image/png": "[encoded data removed]",
      "text/plain": [
       "<Figure size 576x576 with 16 Axes>"
      ]
     },
     "metadata": {
      "needs_background": "light"
     },
     "output_type": "display_data"
    }
   ],
   "source": [
    "model.eval()\n",
    "row , col = 4, 4\n",
    "figure = plt.figure(figsize=(8,8))\n",
    "for i in range(1, row*col+1):\n",
    "    index = random.randint(1, len(test_data))\n",
    "    x, y = test_data[index], test_label[index]\n",
    "    x = torch.as_tensor(x.reshape(1, 28, 28), dtype=torch.float32)\n",
    "    with torch.no_grad():\n",
    "        pred = model(x)\n",
    "        x = x.reshape(28, 28)\n",
    "        predicted_num = pred[0].argmax(0).item()\n",
    "        figure.add_subplot(row, col, i)\n",
    "        plt.title(predicted_num)\n",
    "        plt.axis('off')\n",
    "        plt.imshow(x, cmap='gray')\n",
    "        "
   ]
  },
  {
   "cell_type": "code",
   "execution_count": null,
   "metadata": {},
   "outputs": [],
   "source": []
  }
 ],
 "metadata": {
  "kernelspec": {
   "display_name": "Python 3.8.5 64-bit ('base': conda)",
   "language": "python",
   "name": "python385jvsc74a57bd00c8791e15965c70e700ff694838cb5fae34d6ba0799ebdf3ef5a2993d75d163f"
  },
  "language_info": {
   "codemirror_mode": {
    "name": "ipython",
    "version": 3
   },
   "file_extension": ".py",
   "mimetype": "text/x-python",
   "name": "python",
   "nbconvert_exporter": "python",
   "pygments_lexer": "ipython3",
   "version": "3.8.5"
  }
 },
 "nbformat": 4,
 "nbformat_minor": 4
}
