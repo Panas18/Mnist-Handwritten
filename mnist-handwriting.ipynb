{
 "cells": [
  {
   "cell_type": "code",
   "execution_count": 1,
   "metadata": {},
   "outputs": [],
   "source": [
    "import numpy as np\n",
    "import idx2numpy, torch\n",
    "import matplotlib.pyplot as plt\n",
    "import random"
   ]
  },
  {
   "cell_type": "code",
   "execution_count": 2,
   "metadata": {},
   "outputs": [
    {
     "name": "stderr",
     "output_type": "stream",
     "text": [
      "<ipython-input-2-0849367dca6f>:7: UserWarning: The given NumPy array is not writeable, and PyTorch does not support non-writeable tensors. This means you can write to the underlying (supposedly non-writeable) NumPy array using the tensor. You may want to copy the array to protect its data or make it writeable before converting it to a tensor. This type of warning will be suppressed for the rest of this program. (Triggered internally at  /pytorch/torch/csrc/utils/tensor_numpy.cpp:143.)\n",
      "  train_data = torch.as_tensor(train_data, dtype=torch.float32)\n"
     ]
    }
   ],
   "source": [
    "train_data = idx2numpy.convert_from_file('mnistdata/train-images.idx3-ubyte')\n",
    "train_label = idx2numpy.convert_from_file('mnistdata/train-labels.idx1-ubyte')\n",
    "\n",
    "test_data = idx2numpy.convert_from_file('mnistdata/t10k-images.idx3-ubyte')\n",
    "test_label = idx2numpy.convert_from_file('mnistdata/t10k-labels.idx1-ubyte')\n",
    "\n",
    "train_data = torch.as_tensor(train_data, dtype=torch.float32)\n",
    "test_data = torch.as_tensor(test_data, dtype=torch.float32)\n",
    "train_label = torch.as_tensor(train_label, dtype=torch.int64)\n",
    "test_label = torch.as_tensor(test_label, dtype=torch.int64)"
   ]
  },
  {
   "cell_type": "code",
   "execution_count": 3,
   "metadata": {
    "scrolled": false
   },
   "outputs": [
    {
     "name": "stdout",
     "output_type": "stream",
     "text": [
      "Test Image size:torch.Size([10000, 28, 28])\n",
      "Test label: torch.Size([10000])\n",
      "Train Image size:torch.Size([60000, 28, 28])\n",
      "Train label: torch.Size([60000])\n"
     ]
    }
   ],
   "source": [
    "print(f\"Test Image size:{test_data.shape}\")\n",
    "print(f\"Test label: {test_label.shape}\")\n",
    "print(f\"Train Image size:{train_data.shape}\")\n",
    "print(f\"Train label: {train_label.shape}\")"
   ]
  },
  {
   "cell_type": "code",
   "execution_count": 4,
   "metadata": {},
   "outputs": [
    {
     "data": {
      "image/png": "[encoded data removed]",
      "text/plain": [
       "<Figure size 720x720 with 16 Axes>"
      ]
     },
     "metadata": {
      "needs_background": "light"
     },
     "output_type": "display_data"
    }
   ],
   "source": [
    "row, col = 4, 4\n",
    "figure = plt.figure(figsize=(10,10))\n",
    "\n",
    "for i in range(1, row*col +1):\n",
    "    index = random.randint(1, len(train_data))\n",
    "    image = train_data[index]\n",
    "    label = train_label[index].item()\n",
    "    figure.add_subplot(col, row, i)\n",
    "    plt.title(label)\n",
    "    plt.axis('off')\n",
    "    plt.imshow(image, cmap='gray')\n"
   ]
  },
  {
   "cell_type": "code",
   "execution_count": 5,
   "metadata": {},
   "outputs": [],
   "source": [
    "import torch.nn as nn\n",
    "import torch.nn.functional as F\n",
    "from torch.utils.data import DataLoader\n",
    "import torchvision"
   ]
  },
  {
   "cell_type": "code",
   "execution_count": 6,
   "metadata": {},
   "outputs": [],
   "source": [
    "batch_size = 64\n",
    "train_data_loader = DataLoader(train_data, batch_size= batch_size)\n",
    "train_label_loader = DataLoader(train_label, batch_size= batch_size)\n",
    "test_data_loader = DataLoader(test_data, batch_size= batch_size)\n",
    "test_label_loader = DataLoader(test_label, batch_size= batch_size)"
   ]
  },
  {
   "cell_type": "code",
   "execution_count": 7,
   "metadata": {},
   "outputs": [
    {
     "name": "stdout",
     "output_type": "stream",
     "text": [
      "NeuralNet(\n",
      "  (flatten): Flatten(start_dim=1, end_dim=-1)\n",
      "  (forward_propogation): Sequential(\n",
      "    (0): Linear(in_features=784, out_features=16, bias=False)\n",
      "    (1): ReLU()\n",
      "    (2): Linear(in_features=16, out_features=16, bias=False)\n",
      "    (3): ReLU()\n",
      "    (4): Linear(in_features=16, out_features=10, bias=False)\n",
      "    (5): ReLU()\n",
      "  )\n",
      ")\n"
     ]
    }
   ],
   "source": [
    "class NeuralNet(nn.Module):\n",
    "    \n",
    "    def __init__(self):\n",
    "        super(NeuralNet, self).__init__()\n",
    "        self.flatten = nn.Flatten()\n",
    "        self.forward_propogation = nn.Sequential(\n",
    "            nn.Linear(28*28, 16, bias=False),\n",
    "            nn.ReLU(),\n",
    "            nn.Linear(16, 16, bias=False),\n",
    "            nn.ReLU(),\n",
    "            nn.Linear(16, 10, bias=False),\n",
    "            nn.ReLU()\n",
    "        )\n",
    "        \n",
    "    def forward(self, x):\n",
    "        x = self.flatten(x)\n",
    "        output = self.forward_propogation(x)\n",
    "        return output\n",
    "        \n",
    "model = NeuralNet()\n",
    "print(model)"
   ]
  },
  {
   "cell_type": "code",
   "execution_count": 8,
   "metadata": {},
   "outputs": [],
   "source": [
    "learning_rate = 0.001\n",
    "loss_fn = nn.CrossEntropyLoss()\n",
    "optimizer = torch.optim.SGD(model.parameters(), lr=learning_rate)"
   ]
  },
  {
   "cell_type": "code",
   "execution_count": 9,
   "metadata": {},
   "outputs": [],
   "source": [
    "def train(data_dataloader,label_dataloader , model, loss_fn, optimizer):\n",
    "    size = len(data_dataloader.dataset)\n",
    "    for batch, (x, y) in enumerate(zip(data_dataloader, label_dataloader)):\n",
    "        pred = model(x)\n",
    "        loss = loss_fn(pred, y)\n",
    "        \n",
    "        optimizer.zero_grad()\n",
    "        loss.backward()\n",
    "        optimizer.step()\n",
    "        \n",
    "        if batch % 100 == 0:\n",
    "            loss, current = loss.item(), batch* len(x)\n",
    "            print(f\"Loss: {loss:>7f}   [{current:>5d}/{size:>5d}]\")"
   ]
  },
  {
   "cell_type": "code",
   "execution_count": 10,
   "metadata": {},
   "outputs": [],
   "source": [
    "def test(data_dataloader, label_dataloader, model):\n",
    "    size = len(data_dataloader.dataset)\n",
    "    model.eval()\n",
    "    test_loss, correct = 0,0\n",
    "    with torch.no_grad():\n",
    "        for (x, y) in zip(data_dataloader, label_dataloader):\n",
    "            pred = model(x)\n",
    "            test_loss += loss_fn(pred, y).item()\n",
    "    test_loss /= size\n",
    "    print(f\"Test Error: \\n Avg loss: {test_loss:>8f} \\n\")\n",
    "        "
   ]
  },
  {
   "cell_type": "code",
   "execution_count": 11,
   "metadata": {},
   "outputs": [
    {
     "name": "stdout",
     "output_type": "stream",
     "text": [
      "Epoch 1\n",
      "----------------------\n",
      "Loss: 8.083921   [    0/60000]\n",
      "Loss: 1.388080   [ 6400/60000]\n",
      "Loss: 1.478366   [12800/60000]\n",
      "Loss: 1.075925   [19200/60000]\n",
      "Loss: 1.384429   [25600/60000]\n",
      "Loss: 1.137939   [32000/60000]\n",
      "Loss: 0.728352   [38400/60000]\n",
      "Loss: 1.001441   [44800/60000]\n",
      "Loss: 0.830242   [51200/60000]\n",
      "Loss: 0.867985   [57600/60000]\n",
      "Test Error: \n",
      " Avg loss: 0.013433 \n",
      "\n",
      "Epoch 2\n",
      "----------------------\n",
      "Loss: 0.938528   [    0/60000]\n",
      "Loss: 0.644904   [ 6400/60000]\n",
      "Loss: 0.684371   [12800/60000]\n",
      "Loss: 0.777446   [19200/60000]\n",
      "Loss: 0.950780   [25600/60000]\n",
      "Loss: 0.773566   [32000/60000]\n",
      "Loss: 0.519896   [38400/60000]\n",
      "Loss: 0.878024   [44800/60000]\n",
      "Loss: 0.615687   [51200/60000]\n",
      "Loss: 0.787555   [57600/60000]\n",
      "Test Error: \n",
      " Avg loss: 0.010638 \n",
      "\n",
      "Epoch 3\n",
      "----------------------\n",
      "Loss: 0.775483   [    0/60000]\n",
      "Loss: 0.462472   [ 6400/60000]\n",
      "Loss: 0.567532   [12800/60000]\n",
      "Loss: 0.656194   [19200/60000]\n",
      "Loss: 0.854778   [25600/60000]\n",
      "Loss: 0.690464   [32000/60000]\n",
      "Loss: 0.484713   [38400/60000]\n",
      "Loss: 0.779154   [44800/60000]\n",
      "Loss: 0.683117   [51200/60000]\n",
      "Loss: 0.733014   [57600/60000]\n",
      "Test Error: \n",
      " Avg loss: 0.009546 \n",
      "\n",
      "Epoch 4\n",
      "----------------------\n",
      "Loss: 0.662277   [    0/60000]\n",
      "Loss: 0.504259   [ 6400/60000]\n",
      "Loss: 0.496406   [12800/60000]\n",
      "Loss: 0.609208   [19200/60000]\n",
      "Loss: 0.780254   [25600/60000]\n",
      "Loss: 0.686256   [32000/60000]\n",
      "Loss: 0.456689   [38400/60000]\n",
      "Loss: 0.619805   [44800/60000]\n",
      "Loss: 0.660942   [51200/60000]\n",
      "Loss: 0.703388   [57600/60000]\n",
      "Test Error: \n",
      " Avg loss: 0.008972 \n",
      "\n",
      "Epoch 5\n",
      "----------------------\n",
      "Loss: 0.574541   [    0/60000]\n",
      "Loss: 0.514743   [ 6400/60000]\n",
      "Loss: 0.461095   [12800/60000]\n",
      "Loss: 0.590356   [19200/60000]\n",
      "Loss: 0.773638   [25600/60000]\n",
      "Loss: 0.667180   [32000/60000]\n",
      "Loss: 0.420645   [38400/60000]\n",
      "Loss: 0.535736   [44800/60000]\n",
      "Loss: 0.653621   [51200/60000]\n",
      "Loss: 0.627751   [57600/60000]\n",
      "Test Error: \n",
      " Avg loss: 0.008657 \n",
      "\n"
     ]
    }
   ],
   "source": [
    "epochs = 5\n",
    "for t in range(epochs):\n",
    "    print(f\"Epoch {t+1}\\n----------------------\")\n",
    "    train(train_data_loader, train_label_loader, model, loss_fn, optimizer)\n",
    "    test(test_data_loader,  test_label_loader, model)"
   ]
  },
  {
   "cell_type": "code",
   "execution_count": 16,
   "metadata": {},
   "outputs": [
    {
     "data": {
      "image/png": "[encoded data removed]",
      "text/plain": [
       "<Figure size 432x288 with 1 Axes>"
      ]
     },
     "metadata": {
      "needs_background": "light"
     },
     "output_type": "display_data"
    }
   ],
   "source": [
    "model.eval()\n",
    "pred = 18\n",
    "x, y = test_data[pred], test_label[pred]\n",
    "x = torch.as_tensor(x.reshape(1, 28, 28), dtype = torch.float32)\n",
    "with torch.no_grad():\n",
    "    pred = model(x)\n",
    "    x = x.reshape(28, 28)\n",
    "    plt.imshow(x, cmap='gray')\n",
    "    predicted, actual = pred[0].argmax(0), y\n",
    "    plt.title(f\"predicted as: {predicted}\")"
   ]
  },
  {
   "cell_type": "code",
   "execution_count": null,
   "metadata": {},
   "outputs": [],
   "source": []
  }
 ],
 "metadata": {
  "kernelspec": {
   "display_name": "Python 3.8.5 64-bit ('base': conda)",
   "language": "python",
   "name": "python385jvsc74a57bd00c8791e15965c70e700ff694838cb5fae34d6ba0799ebdf3ef5a2993d75d163f"
  },
  "language_info": {
   "codemirror_mode": {
    "name": "ipython",
    "version": 3
   },
   "file_extension": ".py",
   "mimetype": "text/x-python",
   "name": "python",
   "nbconvert_exporter": "python",
   "pygments_lexer": "ipython3",
   "version": "3.8.5"
  }
 },
 "nbformat": 4,
 "nbformat_minor": 4
}
