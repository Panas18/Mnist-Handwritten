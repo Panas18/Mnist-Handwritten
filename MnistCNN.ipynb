{
 "cells": [
  {
   "cell_type": "code",
   "execution_count": 1,
   "metadata": {},
   "outputs": [],
   "source": [
    "import numpy as np\n",
    "import idx2numpy, torch\n",
    "import matplotlib.pyplot as plt\n",
    "import random\n",
    "import torch\n",
    "from torch.utils.data import TensorDataset, DataLoader\n",
    "from torch import nn"
   ]
  },
  {
   "cell_type": "code",
   "execution_count": 2,
   "metadata": {},
   "outputs": [],
   "source": [
    "train_data = idx2numpy.convert_from_file('mnistdata/train-images.idx3-ubyte') / 255\n",
    "train_label = idx2numpy.convert_from_file('mnistdata/train-labels.idx1-ubyte')\n",
    "test_data = idx2numpy.convert_from_file('mnistdata/t10k-images.idx3-ubyte') / 255\n",
    "test_label = idx2numpy.convert_from_file('mnistdata/t10k-labels.idx1-ubyte')"
   ]
  },
  {
   "cell_type": "code",
   "execution_count": 3,
   "metadata": {
    "scrolled": true
   },
   "outputs": [],
   "source": [
    "train_data = train_data.reshape(len(train_data),1, 28, 28)\n",
    "test_data = test_data.reshape(len(test_data), 1, 28, 28)"
   ]
  },
  {
   "cell_type": "code",
   "execution_count": 4,
   "metadata": {},
   "outputs": [],
   "source": [
    "train_data = torch.from_numpy(train_data).float()\n",
    "test_data = torch.from_numpy(test_data).float()\n",
    "train_label = torch.from_numpy(np.array(train_label))\n",
    "test_label = torch.from_numpy(np.array(test_label))"
   ]
  },
  {
   "cell_type": "code",
   "execution_count": 5,
   "metadata": {},
   "outputs": [],
   "source": [
    "batch_size = 64\n",
    "train = TensorDataset(train_data, train_label)\n",
    "test = TensorDataset(test_data, test_label)\n",
    "train_loader = DataLoader(train, batch_size = batch_size)\n",
    "test_loader = DataLoader(test, batch_size = batch_size)"
   ]
  },
  {
   "cell_type": "code",
   "execution_count": 6,
   "metadata": {
    "scrolled": false
   },
   "outputs": [
    {
     "name": "stdout",
     "output_type": "stream",
     "text": [
      "CNNModule(\n",
      "  (forward_propogation): Sequential(\n",
      "    (0): Conv2d(1, 16, kernel_size=(3, 3), stride=(1, 1))\n",
      "    (1): ReLU()\n",
      "    (2): MaxPool2d(kernel_size=2, stride=2, padding=0, dilation=1, ceil_mode=False)\n",
      "    (3): Conv2d(16, 32, kernel_size=(3, 3), stride=(1, 1))\n",
      "    (4): ReLU()\n",
      "    (5): MaxPool2d(kernel_size=2, stride=2, padding=0, dilation=1, ceil_mode=False)\n",
      "    (6): Flatten(start_dim=1, end_dim=-1)\n",
      "    (7): Linear(in_features=800, out_features=16, bias=True)\n",
      "    (8): ReLU()\n",
      "    (9): Linear(in_features=16, out_features=10, bias=True)\n",
      "    (10): ReLU()\n",
      "  )\n",
      ")\n"
     ]
    }
   ],
   "source": [
    "class CNNModule(nn.Module):\n",
    "    def __init__(self):\n",
    "        super(CNNModule, self).__init__()\n",
    "        self.forward_propogation = nn.Sequential(\n",
    "            nn.Conv2d(in_channels=1, out_channels=16,kernel_size=3, stride=1),\n",
    "            nn.ReLU(),\n",
    "            nn.MaxPool2d(kernel_size=2),\n",
    "            \n",
    "            nn.Conv2d(in_channels=16, out_channels=32, kernel_size=3, stride=1),\n",
    "            nn.ReLU(),\n",
    "            nn.MaxPool2d(kernel_size=2),\n",
    "            \n",
    "            nn.Flatten(),\n",
    "            nn.Linear(32*5*5, 16, bias=True),\n",
    "            nn.ReLU(),\n",
    "            \n",
    "            nn.Linear(16, 10, bias=True),\n",
    "            nn.ReLU()\n",
    "        )\n",
    "        \n",
    "    def forward(self, x):\n",
    "        output = self.forward_propogation(x)\n",
    "        return output\n",
    "    \n",
    "model = CNNModule()\n",
    "print(model)"
   ]
  },
  {
   "cell_type": "code",
   "execution_count": 7,
   "metadata": {},
   "outputs": [],
   "source": [
    "n_iters = 3000\n",
    "num_epochs = n_iters / (len(train_data) / batch_size)\n",
    "num_epochs = int(num_epochs)"
   ]
  },
  {
   "cell_type": "code",
   "execution_count": 8,
   "metadata": {},
   "outputs": [],
   "source": [
    "learning_rate = 0.1\n",
    "loss_fn = nn.CrossEntropyLoss()\n",
    "optimizer = torch.optim.SGD(model.parameters(), lr=learning_rate)"
   ]
  },
  {
   "cell_type": "code",
   "execution_count": 9,
   "metadata": {
    "scrolled": false
   },
   "outputs": [
    {
     "name": "stdout",
     "output_type": "stream",
     "text": [
      "Iterations 500 Loss 0.047926 Accuracy 94.989998\n",
      "Iterations 1000 Loss 0.041404 Accuracy 97.419998\n",
      "Iterations 1500 Loss 0.172903 Accuracy 97.070000\n",
      "Iterations 2000 Loss 0.045387 Accuracy 97.879997\n",
      "Iterations 2500 Loss 0.024012 Accuracy 97.900002\n"
     ]
    }
   ],
   "source": [
    "count = 1\n",
    "losses = []\n",
    "iterations = []\n",
    "accuracies = []\n",
    "\n",
    "for epoch in range(num_epochs):\n",
    "    for i, (x, y) in enumerate(train_loader):\n",
    "        optimizer.zero_grad()\n",
    "        output = model(x) \n",
    "        y = y.to(torch.long)\n",
    "        loss = loss_fn(output, y)\n",
    "        loss.backward()\n",
    "        optimizer.step()\n",
    "        \n",
    "        count += 1\n",
    "        if count % 50 == 0:\n",
    "            correct = 0\n",
    "            total = 0\n",
    "            for x, y in test_loader:\n",
    "                output = model(x)\n",
    "                pred = torch.max(output.data, 1)[1]\n",
    "                total += len(y)\n",
    "                correct += (pred == y).sum()\n",
    "                \n",
    "            accuracy = 100 * correct / float(total)\n",
    "            losses.append(loss)\n",
    "            iterations.append(count)\n",
    "            accuracies.append(accuracy)\n",
    "            \n",
    "        if count % 500 == 0:\n",
    "            print(f\"Iterations {count} Loss {loss.data:>3f} Accuracy {accuracy:>3f}\")\n",
    "            "
   ]
  },
  {
   "cell_type": "code",
   "execution_count": 10,
   "metadata": {},
   "outputs": [
    {
     "data": {
      "image/png": "[encoded data removed]",
      "text/plain": [
       "<Figure size 432x288 with 1 Axes>"
      ]
     },
     "metadata": {
      "needs_background": "light"
     },
     "output_type": "display_data"
    },
    {
     "data": {
      "image/png": "[encoded data removed]",
      "text/plain": [
       "<Figure size 432x288 with 1 Axes>"
      ]
     },
     "metadata": {
      "needs_background": "light"
     },
     "output_type": "display_data"
    }
   ],
   "source": [
    "losses = [loss.detach().numpy() for loss in losses]\n",
    "# visualization loss \n",
    "plt.plot(iterations,losses)\n",
    "plt.xlabel(\"Number of iteration\")\n",
    "plt.ylabel(\"Loss\")\n",
    "plt.title(\"CNN: Loss vs Number of iteration\")\n",
    "plt.show()\n",
    "\n",
    "# visualization accuracy \n",
    "plt.plot(iterations,accuracies,color = \"red\")\n",
    "plt.xlabel(\"Number of iteration\")\n",
    "plt.ylabel(\"Accuracy\")\n",
    "plt.title(\"CNN: Accuracy vs Number of iteration\")\n",
    "plt.show()"
   ]
  }
 ],
 "metadata": {
  "kernelspec": {
   "display_name": "Python 3.8.5 64-bit ('base': conda)",
   "language": "python",
   "name": "python385jvsc74a57bd00c8791e15965c70e700ff694838cb5fae34d6ba0799ebdf3ef5a2993d75d163f"
  },
  "language_info": {
   "codemirror_mode": {
    "name": "ipython",
    "version": 3
   },
   "file_extension": ".py",
   "mimetype": "text/x-python",
   "name": "python",
   "nbconvert_exporter": "python",
   "pygments_lexer": "ipython3",
   "version": "3.8.5"
  }
 },
 "nbformat": 4,
 "nbformat_minor": 4
}
