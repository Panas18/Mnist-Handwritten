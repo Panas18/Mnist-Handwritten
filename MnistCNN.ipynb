{
 "cells": [
  {
   "cell_type": "code",
   "execution_count": 1,
   "metadata": {},
   "outputs": [],
   "source": [
    "import numpy as np\n",
    "import idx2numpy, torch\n",
    "import matplotlib.pyplot as plt\n",
    "import random\n",
    "import torch\n",
    "from torch.utils.data import TensorDataset, DataLoader\n",
    "from torch import nn"
   ]
  },
  {
   "cell_type": "code",
   "execution_count": 2,
   "metadata": {},
   "outputs": [],
   "source": [
    "train_data = idx2numpy.convert_from_file('mnistdata/train-images.idx3-ubyte') / 255\n",
    "train_label = idx2numpy.convert_from_file('mnistdata/train-labels.idx1-ubyte')\n",
    "test_data = idx2numpy.convert_from_file('mnistdata/t10k-images.idx3-ubyte') / 255\n",
    "test_label = idx2numpy.convert_from_file('mnistdata/t10k-labels.idx1-ubyte')"
   ]
  },
  {
   "cell_type": "code",
   "execution_count": 3,
   "metadata": {
    "scrolled": true
   },
   "outputs": [],
   "source": [
    "train_data = train_data.reshape(len(train_data),1, 28, 28)\n",
    "test_data = test_data.reshape(len(test_data), 1, 28, 28)"
   ]
  },
  {
   "cell_type": "code",
   "execution_count": 4,
   "metadata": {
    "scrolled": true
   },
   "outputs": [],
   "source": [
    "train_data = torch.from_numpy(train_data).float()\n",
    "test_data = torch.from_numpy(test_data).float()\n",
    "train_label = torch.from_numpy(np.array(train_label))\n",
    "test_label = torch.from_numpy(np.array(test_label))"
   ]
  },
  {
   "cell_type": "code",
   "execution_count": 5,
   "metadata": {},
   "outputs": [],
   "source": [
    "train_label = train_label.to(torch.int64)\n",
    "test_label = test_label.to(torch.int64)"
   ]
  },
  {
   "cell_type": "code",
   "execution_count": 6,
   "metadata": {},
   "outputs": [],
   "source": [
    "batch_size = 64\n",
    "train = TensorDataset(train_data, train_label)\n",
    "test = TensorDataset(test_data, test_label)\n",
    "train_loader = DataLoader(train, batch_size = batch_size)\n",
    "test_loader = DataLoader(test, batch_size = batch_size)"
   ]
  },
  {
   "cell_type": "code",
   "execution_count": 7,
   "metadata": {
    "scrolled": false
   },
   "outputs": [
    {
     "name": "stdout",
     "output_type": "stream",
     "text": [
      "CNNModule(\n",
      "  (forward_propogation): Sequential(\n",
      "    (0): Conv2d(1, 16, kernel_size=(3, 3), stride=(1, 1))\n",
      "    (1): ReLU()\n",
      "    (2): MaxPool2d(kernel_size=2, stride=2, padding=0, dilation=1, ceil_mode=False)\n",
      "    (3): Conv2d(16, 32, kernel_size=(3, 3), stride=(1, 1))\n",
      "    (4): ReLU()\n",
      "    (5): MaxPool2d(kernel_size=2, stride=2, padding=0, dilation=1, ceil_mode=False)\n",
      "    (6): Flatten(start_dim=1, end_dim=-1)\n",
      "    (7): Linear(in_features=800, out_features=16, bias=True)\n",
      "    (8): ReLU()\n",
      "    (9): Linear(in_features=16, out_features=10, bias=True)\n",
      "    (10): ReLU()\n",
      "  )\n",
      ")\n"
     ]
    }
   ],
   "source": [
    "class CNNModule(nn.Module):\n",
    "    def __init__(self):\n",
    "        super(CNNModule, self).__init__()\n",
    "        self.forward_propogation = nn.Sequential(\n",
    "            nn.Conv2d(in_channels=1, out_channels=16,kernel_size=3, stride=1),\n",
    "            nn.ReLU(),\n",
    "            nn.MaxPool2d(kernel_size=2),\n",
    "            \n",
    "            nn.Conv2d(in_channels=16, out_channels=32, kernel_size=3, stride=1),\n",
    "            nn.ReLU(),\n",
    "            nn.MaxPool2d(kernel_size=2),\n",
    "            \n",
    "            nn.Flatten(),\n",
    "            nn.Linear(32*5*5, 16, bias=True),\n",
    "            nn.ReLU(),\n",
    "            \n",
    "            nn.Linear(16, 10, bias=True),\n",
    "            nn.ReLU()\n",
    "        )\n",
    "        \n",
    "    def forward(self, x):\n",
    "        output = self.forward_propogation(x)\n",
    "        return output\n",
    "    \n",
    "model = CNNModule()\n",
    "print(model)"
   ]
  },
  {
   "cell_type": "code",
   "execution_count": 8,
   "metadata": {},
   "outputs": [],
   "source": [
    "n_iters = 3000\n",
    "num_epochs = n_iters / (len(train_data) / batch_size)\n",
    "num_epochs = int(num_epochs)"
   ]
  },
  {
   "cell_type": "code",
   "execution_count": 9,
   "metadata": {},
   "outputs": [],
   "source": [
    "learning_rate = 0.1\n",
    "loss_fn = nn.CrossEntropyLoss()\n",
    "optimizer = torch.optim.SGD(model.parameters(), lr=learning_rate)"
   ]
  },
  {
   "cell_type": "code",
   "execution_count": 10,
   "metadata": {
    "scrolled": false
   },
   "outputs": [],
   "source": [
    "def train(data_dataloader , model, loss_fn, optimizer):\n",
    "    size = len(data_dataloader.dataset)\n",
    "    lossess = []\n",
    "    accuracies = []\n",
    "    for batch, (x, y) in enumerate(data_dataloader):\n",
    "        pred = model(x)\n",
    "        loss = loss_fn(pred, y)\n",
    "        cat =  torch.argmax(pred, dim=1)\n",
    "        accuracy = (cat == y).float().mean()\n",
    "        \n",
    "        optimizer.zero_grad()\n",
    "        loss.backward()\n",
    "        optimizer.step()\n",
    "        \n",
    "        if batch % 100 == 0:\n",
    "            loss, current = loss.item(), batch* len(x)\n",
    "            print(f\"Loss: {loss:>7f}   [{current:>5d}/{size:>5d}] Accuracy: {accuracy * 100:>7f}\")\n",
    "            print(f\"Accuracy: {accuracy:>7f}\")\n",
    "            lossess.append(loss)\n",
    "            accuracies.append(accuracy)\n",
    "    return lossess, accuracies"
   ]
  },
  {
   "cell_type": "code",
   "execution_count": 11,
   "metadata": {},
   "outputs": [],
   "source": [
    "def test(data_dataloader, model):\n",
    "    size = len(data_dataloader.dataset)\n",
    "    model.eval()\n",
    "    test_loss, correct = 0,0\n",
    "    with torch.no_grad():\n",
    "        for (x, y) in data_dataloader:\n",
    "            pred = model(x)\n",
    "            test_loss += loss_fn(pred, y).item()\n",
    "            correct += (pred.argmax(1) == y).type(torch.float).sum().item()\n",
    "    test_loss /= size\n",
    "    correct /= size\n",
    "    print(f\"\\n Test Error: \\n Avg loss: {test_loss:>8f} Test Accuracy:{correct * 100:>5f}% \\n\")\n",
    "        "
   ]
  },
  {
   "cell_type": "code",
   "execution_count": 12,
   "metadata": {},
   "outputs": [
    {
     "name": "stdout",
     "output_type": "stream",
     "text": [
      "Epoch 1\n",
      "----------------------\n",
      "Loss: 2.302442   [    0/60000] Accuracy: 15.625000\n",
      "Accuracy: 0.156250\n",
      "Loss: 1.252016   [ 6400/60000] Accuracy: 59.375000\n",
      "Accuracy: 0.593750\n",
      "Loss: 0.519610   [12800/60000] Accuracy: 82.812500\n",
      "Accuracy: 0.828125\n",
      "Loss: 0.477998   [19200/60000] Accuracy: 85.937500\n",
      "Accuracy: 0.859375\n",
      "Loss: 0.256631   [25600/60000] Accuracy: 89.062500\n",
      "Accuracy: 0.890625\n",
      "Loss: 0.137361   [32000/60000] Accuracy: 98.437500\n",
      "Accuracy: 0.984375\n",
      "Loss: 0.129705   [38400/60000] Accuracy: 98.437500\n",
      "Accuracy: 0.984375\n",
      "Loss: 0.169168   [44800/60000] Accuracy: 93.750000\n",
      "Accuracy: 0.937500\n",
      "Loss: 0.263206   [51200/60000] Accuracy: 93.750000\n",
      "Accuracy: 0.937500\n",
      "Loss: 0.302136   [57600/60000] Accuracy: 92.187500\n",
      "Accuracy: 0.921875\n",
      "\n",
      " Test Error: \n",
      " Avg loss: 0.001905 Test Accuracy:96.050000% \n",
      "\n",
      "Epoch 2\n",
      "----------------------\n",
      "Loss: 0.077876   [    0/60000] Accuracy: 96.875000\n",
      "Accuracy: 0.968750\n",
      "Loss: 0.130527   [ 6400/60000] Accuracy: 98.437500\n",
      "Accuracy: 0.984375\n",
      "Loss: 0.059285   [12800/60000] Accuracy: 100.000000\n",
      "Accuracy: 1.000000\n",
      "Loss: 0.276879   [19200/60000] Accuracy: 93.750000\n",
      "Accuracy: 0.937500\n",
      "Loss: 0.020458   [25600/60000] Accuracy: 100.000000\n",
      "Accuracy: 1.000000\n",
      "Loss: 0.091886   [32000/60000] Accuracy: 98.437500\n",
      "Accuracy: 0.984375\n",
      "Loss: 0.092872   [38400/60000] Accuracy: 98.437500\n",
      "Accuracy: 0.984375\n",
      "Loss: 0.094224   [44800/60000] Accuracy: 96.875000\n",
      "Accuracy: 0.968750\n",
      "Loss: 0.165481   [51200/60000] Accuracy: 95.312500\n",
      "Accuracy: 0.953125\n",
      "Loss: 0.181849   [57600/60000] Accuracy: 95.312500\n",
      "Accuracy: 0.953125\n",
      "\n",
      " Test Error: \n",
      " Avg loss: 0.001183 Test Accuracy:97.510000% \n",
      "\n",
      "Epoch 3\n",
      "----------------------\n",
      "Loss: 0.034010   [    0/60000] Accuracy: 98.437500\n",
      "Accuracy: 0.984375\n",
      "Loss: 0.118568   [ 6400/60000] Accuracy: 98.437500\n",
      "Accuracy: 0.984375\n",
      "Loss: 0.062446   [12800/60000] Accuracy: 98.437500\n",
      "Accuracy: 0.984375\n",
      "Loss: 0.257164   [19200/60000] Accuracy: 93.750000\n",
      "Accuracy: 0.937500\n",
      "Loss: 0.015600   [25600/60000] Accuracy: 100.000000\n",
      "Accuracy: 1.000000\n",
      "Loss: 0.073229   [32000/60000] Accuracy: 98.437500\n",
      "Accuracy: 0.984375\n",
      "Loss: 0.092934   [38400/60000] Accuracy: 98.437500\n",
      "Accuracy: 0.984375\n",
      "Loss: 0.084484   [44800/60000] Accuracy: 96.875000\n",
      "Accuracy: 0.968750\n",
      "Loss: 0.131391   [51200/60000] Accuracy: 96.875000\n",
      "Accuracy: 0.968750\n",
      "Loss: 0.109319   [57600/60000] Accuracy: 95.312500\n",
      "Accuracy: 0.953125\n",
      "\n",
      " Test Error: \n",
      " Avg loss: 0.000998 Test Accuracy:97.890000% \n",
      "\n"
     ]
    }
   ],
   "source": [
    "epochs = 3\n",
    "losses , accuracies = [], []\n",
    "for t in range(epochs):\n",
    "    print(f\"Epoch {t+1}\\n----------------------\")\n",
    "    loss, accuracy = train(train_loader, model, loss_fn, optimizer)\n",
    "    for l, a in zip(loss, accuracy):\n",
    "        losses.append(l)\n",
    "        accuracies.append(a)\n",
    "    test(test_loader, model)"
   ]
  },
  {
   "cell_type": "code",
   "execution_count": 26,
   "metadata": {},
   "outputs": [
    {
     "data": {
      "image/png": "[encoded data removed]",
      "text/plain": [
       "<Figure size 432x288 with 1 Axes>"
      ]
     },
     "metadata": {
      "needs_background": "light"
     },
     "output_type": "display_data"
    }
   ],
   "source": [
    "\n",
    "# visualization loss \n",
    "plt.plot(losses)\n",
    "plt.plot(accuracies,color = \"red\")\n",
    "plt.ylim(0,1.1)\n",
    "plt.show()\n",
    "\n"
   ]
  },
  {
   "cell_type": "code",
   "execution_count": null,
   "metadata": {},
   "outputs": [],
   "source": []
  }
 ],
 "metadata": {
  "kernelspec": {
   "display_name": "Python 3.8.5 64-bit ('base': conda)",
   "language": "python",
   "name": "python385jvsc74a57bd00c8791e15965c70e700ff694838cb5fae34d6ba0799ebdf3ef5a2993d75d163f"
  },
  "language_info": {
   "codemirror_mode": {
    "name": "ipython",
    "version": 3
   },
   "file_extension": ".py",
   "mimetype": "text/x-python",
   "name": "python",
   "nbconvert_exporter": "python",
   "pygments_lexer": "ipython3",
   "version": "3.8.5"
  }
 },
 "nbformat": 4,
 "nbformat_minor": 4
}
